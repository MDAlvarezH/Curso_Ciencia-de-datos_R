{
 "cells": [
  {
   "cell_type": "markdown",
   "metadata": {},
   "source": [
    "\n",
    "# <center>Introducción al pensamiento y metodología de la ciencia de datos con R</center>\n",
    "\n",
    "### <center>Miguel David Alvarez Hernández</center>\n",
    "### <center>mdalvarezh@gmail.com</center>\n",
    "\n",
    "### <center>UAM-Lerma</center>\n",
    "### <center>Octubre 2022</center>"
   ]
  },
  {
   "cell_type": "markdown",
   "metadata": {},
   "source": [
    "# <left>Motivación</left>\n",
    "\n",
    "## <left>I. Seis preguntas sobre la Ciencia de Datos</left>\n",
    "\n",
    "<br>\n",
    "\n",
    "![](365-Data-Science-Infographic.png)"
   ]
  },
  {
   "cell_type": "markdown",
   "metadata": {},
   "source": [
    "<br>\n",
    "\n",
    "## <left>II. ¿Cómo volverse un experto en Ciencia de Datos?</left>\n",
    "\n",
    "<br>\n",
    "\n",
    "![](DataScienceEightSteps_Full.png)"
   ]
  },
  {
   "cell_type": "markdown",
   "metadata": {},
   "source": [
    "<br>\n",
    "\n",
    "## <left>III. ¿Qué lenguage escoger? Python vs R</left>\n",
    "\n",
    "<br>\n",
    "\n",
    "<img src=\"Data science wars Python vs R.jpg\" width=\"1000\" height=\"1000\" align=\"center\"/>"
   ]
  },
  {
   "cell_type": "markdown",
   "metadata": {},
   "source": [
    "### Homework:\n",
    "\n",
    "- Python's history\n",
    "\n",
    "https://en.wikipedia.org/wiki/History_of_Python\n",
    "\n",
    "- Basics of Python\n",
    "\n",
    "https://www.learnpython.org/\n",
    "\n",
    "https://realpython.com/jupyter-notebook-introduction/\n",
    "\n",
    "- Choosing R or Python for Data Analysis? An Infographic\n",
    "\n",
    "https://www.datacamp.com/community/tutorials/r-or-python-for-data-analysis#gs.nrBsDZQ\n",
    "\n",
    "- Why become a data scientist?\n",
    "\n",
    "https://365datascience.com/defining-data-science/\n",
    "\n",
    "- Comparisons between languages\n",
    "\n",
    "https://www.codingame.com/blog/best-programming-language-learn-2019/\n",
    "\n",
    "https://towardsdatascience.com/data-science-101-is-python-better-than-r-b8f258f57b0f\n",
    "\n",
    "https://www.tiobe.com/tiobe-index/\n",
    "\n",
    "http://pypl.github.io/PYPL.html\n",
    "\n",
    "https://redmonk.com/sogrady/2018/03/07/language-rankings-1-18/\n",
    "\n",
    "https://octoverse.github.com/projects#languages\n",
    "\n",
    "- Visualizations in Python\n",
    "\n",
    "https://towardsdatascience.com/5-quick-and-easy-data-visualizations-in-python-with-code-a2284bae952f\n"
   ]
  }
 ],
 "metadata": {
  "kernelspec": {
   "display_name": "Python 3 (ipykernel)",
   "language": "python",
   "name": "python3"
  },
  "language_info": {
   "codemirror_mode": {
    "name": "ipython",
    "version": 3
   },
   "file_extension": ".py",
   "mimetype": "text/x-python",
   "name": "python",
   "nbconvert_exporter": "python",
   "pygments_lexer": "ipython3",
   "version": "3.9.7"
  }
 },
 "nbformat": 4,
 "nbformat_minor": 4
}
